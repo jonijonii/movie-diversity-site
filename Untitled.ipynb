{
 "cells": [
  {
   "cell_type": "code",
   "execution_count": 1,
   "id": "bd43bd48-e875-499c-a97b-eecba961b439",
   "metadata": {},
   "outputs": [
    {
     "name": "stdout",
     "output_type": "stream",
     "text": [
      "✅ styles.css 파일 생성 완료\n"
     ]
    }
   ],
   "source": [
    "css_code = \"\"\"\n",
    "body {\n",
    "  line-height: 2.0;  \n",
    "  max-width: 100%;\n",
    "  font-size: 1.05rem;  \n",
    "  margin: auto;  \n",
    "  padding: 1.5rem;\n",
    "}\n",
    "\n",
    "img {\n",
    "  max-width: 100%;\n",
    "  height: auto;\n",
    "  display: block;\n",
    "  margin: 1em auto;\n",
    "}\n",
    "\"\"\"\n",
    "\n",
    "with open(\"styles.css\", \"w\", encoding=\"utf-8\") as f:\n",
    "    f.write(css_code)\n",
    "\n",
    "print(\"✅ styles.css 파일 생성 완료\")\n"
   ]
  },
  {
   "cell_type": "code",
   "execution_count": null,
   "id": "ce850c49-7b18-4cde-8905-d9de2d8140d2",
   "metadata": {},
   "outputs": [],
   "source": []
  }
 ],
 "metadata": {
  "kernelspec": {
   "display_name": "Python [conda env:base] *",
   "language": "python",
   "name": "conda-base-py"
  },
  "language_info": {
   "codemirror_mode": {
    "name": "ipython",
    "version": 3
   },
   "file_extension": ".py",
   "mimetype": "text/x-python",
   "name": "python",
   "nbconvert_exporter": "python",
   "pygments_lexer": "ipython3",
   "version": "3.12.3"
  }
 },
 "nbformat": 4,
 "nbformat_minor": 5
}
